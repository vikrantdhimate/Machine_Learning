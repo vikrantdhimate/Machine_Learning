{
 "cells": [
  {
   "cell_type": "code",
   "execution_count": 5,
   "metadata": {},
   "outputs": [],
   "source": [
    "import pandas as pd"
   ]
  },
  {
   "cell_type": "code",
   "execution_count": 11,
   "metadata": {},
   "outputs": [],
   "source": [
    "tcs_df = pd.read_csv('./data/TCS.csv', index_col = 'Date')\n",
    "dlf_df = pd.read_csv('./data/DLF.csv', index_col = 'Date')"
   ]
  },
  {
   "cell_type": "code",
   "execution_count": 12,
   "metadata": {
    "scrolled": true
   },
   "outputs": [
    {
     "data": {
      "text/html": [
       "<div>\n",
       "<style scoped>\n",
       "    .dataframe tbody tr th:only-of-type {\n",
       "        vertical-align: middle;\n",
       "    }\n",
       "\n",
       "    .dataframe tbody tr th {\n",
       "        vertical-align: top;\n",
       "    }\n",
       "\n",
       "    .dataframe thead th {\n",
       "        text-align: right;\n",
       "    }\n",
       "</style>\n",
       "<table border=\"1\" class=\"dataframe\">\n",
       "  <thead>\n",
       "    <tr style=\"text-align: right;\">\n",
       "      <th></th>\n",
       "      <th>Open Price</th>\n",
       "      <th>High Price</th>\n",
       "      <th>Low Price</th>\n",
       "      <th>Close Price</th>\n",
       "      <th>WAP</th>\n",
       "      <th>No.of Shares</th>\n",
       "      <th>No. of Trades</th>\n",
       "      <th>Total Turnover (Rs.)</th>\n",
       "      <th>Deliverable Quantity</th>\n",
       "      <th>% Deli. Qty to Traded Qty</th>\n",
       "      <th>Spread High-Low</th>\n",
       "      <th>Spread Close-Open</th>\n",
       "    </tr>\n",
       "    <tr>\n",
       "      <th>Date</th>\n",
       "      <th></th>\n",
       "      <th></th>\n",
       "      <th></th>\n",
       "      <th></th>\n",
       "      <th></th>\n",
       "      <th></th>\n",
       "      <th></th>\n",
       "      <th></th>\n",
       "      <th></th>\n",
       "      <th></th>\n",
       "      <th></th>\n",
       "      <th></th>\n",
       "    </tr>\n",
       "  </thead>\n",
       "  <tbody>\n",
       "    <tr>\n",
       "      <th>14-May-2019</th>\n",
       "      <td>2137.50</td>\n",
       "      <td>2158.20</td>\n",
       "      <td>2074.50</td>\n",
       "      <td>2094.35</td>\n",
       "      <td>2101.132647</td>\n",
       "      <td>107390</td>\n",
       "      <td>6246</td>\n",
       "      <td>225640635.0</td>\n",
       "      <td>28696.0</td>\n",
       "      <td>26.72</td>\n",
       "      <td>83.70</td>\n",
       "      <td>-43.15</td>\n",
       "    </tr>\n",
       "    <tr>\n",
       "      <th>13-May-2019</th>\n",
       "      <td>2140.00</td>\n",
       "      <td>2167.00</td>\n",
       "      <td>2122.85</td>\n",
       "      <td>2131.10</td>\n",
       "      <td>2137.064735</td>\n",
       "      <td>154027</td>\n",
       "      <td>5231</td>\n",
       "      <td>329165670.0</td>\n",
       "      <td>69558.0</td>\n",
       "      <td>45.16</td>\n",
       "      <td>44.15</td>\n",
       "      <td>-8.90</td>\n",
       "    </tr>\n",
       "    <tr>\n",
       "      <th>10-May-2019</th>\n",
       "      <td>2174.35</td>\n",
       "      <td>2193.60</td>\n",
       "      <td>2125.00</td>\n",
       "      <td>2135.55</td>\n",
       "      <td>2157.376335</td>\n",
       "      <td>105470</td>\n",
       "      <td>4688</td>\n",
       "      <td>227538482.0</td>\n",
       "      <td>26259.0</td>\n",
       "      <td>24.90</td>\n",
       "      <td>68.60</td>\n",
       "      <td>-38.80</td>\n",
       "    </tr>\n",
       "    <tr>\n",
       "      <th>9-May-2019</th>\n",
       "      <td>2145.00</td>\n",
       "      <td>2182.00</td>\n",
       "      <td>2138.00</td>\n",
       "      <td>2168.70</td>\n",
       "      <td>2169.785837</td>\n",
       "      <td>80051</td>\n",
       "      <td>4070</td>\n",
       "      <td>173693526.0</td>\n",
       "      <td>24870.0</td>\n",
       "      <td>31.07</td>\n",
       "      <td>44.00</td>\n",
       "      <td>23.70</td>\n",
       "    </tr>\n",
       "    <tr>\n",
       "      <th>8-May-2019</th>\n",
       "      <td>2158.00</td>\n",
       "      <td>2167.75</td>\n",
       "      <td>2130.20</td>\n",
       "      <td>2152.65</td>\n",
       "      <td>2153.964977</td>\n",
       "      <td>59590</td>\n",
       "      <td>3302</td>\n",
       "      <td>128354773.0</td>\n",
       "      <td>23867.0</td>\n",
       "      <td>40.05</td>\n",
       "      <td>37.55</td>\n",
       "      <td>-5.35</td>\n",
       "    </tr>\n",
       "  </tbody>\n",
       "</table>\n",
       "</div>"
      ],
      "text/plain": [
       "             Open Price  High Price  Low Price  Close Price          WAP  \\\n",
       "Date                                                                       \n",
       "14-May-2019     2137.50     2158.20    2074.50      2094.35  2101.132647   \n",
       "13-May-2019     2140.00     2167.00    2122.85      2131.10  2137.064735   \n",
       "10-May-2019     2174.35     2193.60    2125.00      2135.55  2157.376335   \n",
       "9-May-2019      2145.00     2182.00    2138.00      2168.70  2169.785837   \n",
       "8-May-2019      2158.00     2167.75    2130.20      2152.65  2153.964977   \n",
       "\n",
       "             No.of Shares  No. of Trades  Total Turnover (Rs.)  \\\n",
       "Date                                                             \n",
       "14-May-2019        107390           6246           225640635.0   \n",
       "13-May-2019        154027           5231           329165670.0   \n",
       "10-May-2019        105470           4688           227538482.0   \n",
       "9-May-2019          80051           4070           173693526.0   \n",
       "8-May-2019          59590           3302           128354773.0   \n",
       "\n",
       "             Deliverable Quantity  % Deli. Qty to Traded Qty  Spread High-Low  \\\n",
       "Date                                                                            \n",
       "14-May-2019               28696.0                      26.72            83.70   \n",
       "13-May-2019               69558.0                      45.16            44.15   \n",
       "10-May-2019               26259.0                      24.90            68.60   \n",
       "9-May-2019                24870.0                      31.07            44.00   \n",
       "8-May-2019                23867.0                      40.05            37.55   \n",
       "\n",
       "             Spread Close-Open  \n",
       "Date                            \n",
       "14-May-2019             -43.15  \n",
       "13-May-2019              -8.90  \n",
       "10-May-2019             -38.80  \n",
       "9-May-2019               23.70  \n",
       "8-May-2019               -5.35  "
      ]
     },
     "execution_count": 12,
     "metadata": {},
     "output_type": "execute_result"
    }
   ],
   "source": [
    "tcs_df.head()"
   ]
  },
  {
   "cell_type": "code",
   "execution_count": 13,
   "metadata": {},
   "outputs": [
    {
     "data": {
      "text/html": [
       "<div>\n",
       "<style scoped>\n",
       "    .dataframe tbody tr th:only-of-type {\n",
       "        vertical-align: middle;\n",
       "    }\n",
       "\n",
       "    .dataframe tbody tr th {\n",
       "        vertical-align: top;\n",
       "    }\n",
       "\n",
       "    .dataframe thead th {\n",
       "        text-align: right;\n",
       "    }\n",
       "</style>\n",
       "<table border=\"1\" class=\"dataframe\">\n",
       "  <thead>\n",
       "    <tr style=\"text-align: right;\">\n",
       "      <th></th>\n",
       "      <th>Open Price</th>\n",
       "      <th>High Price</th>\n",
       "      <th>Low Price</th>\n",
       "      <th>Close Price</th>\n",
       "      <th>WAP</th>\n",
       "      <th>No.of Shares</th>\n",
       "      <th>No. of Trades</th>\n",
       "      <th>Total Turnover (Rs.)</th>\n",
       "      <th>Deliverable Quantity</th>\n",
       "      <th>% Deli. Qty to Traded Qty</th>\n",
       "      <th>Spread High-Low</th>\n",
       "      <th>Spread Close-Open</th>\n",
       "    </tr>\n",
       "    <tr>\n",
       "      <th>Date</th>\n",
       "      <th></th>\n",
       "      <th></th>\n",
       "      <th></th>\n",
       "      <th></th>\n",
       "      <th></th>\n",
       "      <th></th>\n",
       "      <th></th>\n",
       "      <th></th>\n",
       "      <th></th>\n",
       "      <th></th>\n",
       "      <th></th>\n",
       "      <th></th>\n",
       "    </tr>\n",
       "  </thead>\n",
       "  <tbody>\n",
       "    <tr>\n",
       "      <th>14-May-2019</th>\n",
       "      <td>164.45</td>\n",
       "      <td>167.70</td>\n",
       "      <td>160.80</td>\n",
       "      <td>166.45</td>\n",
       "      <td>164.767985</td>\n",
       "      <td>497433</td>\n",
       "      <td>3640</td>\n",
       "      <td>81961033.0</td>\n",
       "      <td>58379</td>\n",
       "      <td>11.74</td>\n",
       "      <td>6.90</td>\n",
       "      <td>2.00</td>\n",
       "    </tr>\n",
       "    <tr>\n",
       "      <th>13-May-2019</th>\n",
       "      <td>165.00</td>\n",
       "      <td>167.45</td>\n",
       "      <td>162.95</td>\n",
       "      <td>164.45</td>\n",
       "      <td>165.669964</td>\n",
       "      <td>368748</td>\n",
       "      <td>2461</td>\n",
       "      <td>61090468.0</td>\n",
       "      <td>59980</td>\n",
       "      <td>16.27</td>\n",
       "      <td>4.50</td>\n",
       "      <td>-0.55</td>\n",
       "    </tr>\n",
       "    <tr>\n",
       "      <th>10-May-2019</th>\n",
       "      <td>169.90</td>\n",
       "      <td>172.50</td>\n",
       "      <td>166.05</td>\n",
       "      <td>166.75</td>\n",
       "      <td>169.089296</td>\n",
       "      <td>456166</td>\n",
       "      <td>2659</td>\n",
       "      <td>77132788.0</td>\n",
       "      <td>52173</td>\n",
       "      <td>11.44</td>\n",
       "      <td>6.45</td>\n",
       "      <td>-3.15</td>\n",
       "    </tr>\n",
       "    <tr>\n",
       "      <th>9-May-2019</th>\n",
       "      <td>168.10</td>\n",
       "      <td>170.75</td>\n",
       "      <td>166.55</td>\n",
       "      <td>168.00</td>\n",
       "      <td>168.479698</td>\n",
       "      <td>372276</td>\n",
       "      <td>2479</td>\n",
       "      <td>62720948.0</td>\n",
       "      <td>34147</td>\n",
       "      <td>9.17</td>\n",
       "      <td>4.20</td>\n",
       "      <td>-0.10</td>\n",
       "    </tr>\n",
       "    <tr>\n",
       "      <th>8-May-2019</th>\n",
       "      <td>169.70</td>\n",
       "      <td>170.15</td>\n",
       "      <td>165.80</td>\n",
       "      <td>169.00</td>\n",
       "      <td>167.992072</td>\n",
       "      <td>369458</td>\n",
       "      <td>3135</td>\n",
       "      <td>62066015.0</td>\n",
       "      <td>42805</td>\n",
       "      <td>11.59</td>\n",
       "      <td>4.35</td>\n",
       "      <td>-0.70</td>\n",
       "    </tr>\n",
       "  </tbody>\n",
       "</table>\n",
       "</div>"
      ],
      "text/plain": [
       "             Open Price  High Price  Low Price  Close Price         WAP  \\\n",
       "Date                                                                      \n",
       "14-May-2019      164.45      167.70     160.80       166.45  164.767985   \n",
       "13-May-2019      165.00      167.45     162.95       164.45  165.669964   \n",
       "10-May-2019      169.90      172.50     166.05       166.75  169.089296   \n",
       "9-May-2019       168.10      170.75     166.55       168.00  168.479698   \n",
       "8-May-2019       169.70      170.15     165.80       169.00  167.992072   \n",
       "\n",
       "             No.of Shares  No. of Trades  Total Turnover (Rs.)  \\\n",
       "Date                                                             \n",
       "14-May-2019        497433           3640            81961033.0   \n",
       "13-May-2019        368748           2461            61090468.0   \n",
       "10-May-2019        456166           2659            77132788.0   \n",
       "9-May-2019         372276           2479            62720948.0   \n",
       "8-May-2019         369458           3135            62066015.0   \n",
       "\n",
       "             Deliverable Quantity  % Deli. Qty to Traded Qty  Spread High-Low  \\\n",
       "Date                                                                            \n",
       "14-May-2019                 58379                      11.74             6.90   \n",
       "13-May-2019                 59980                      16.27             4.50   \n",
       "10-May-2019                 52173                      11.44             6.45   \n",
       "9-May-2019                  34147                       9.17             4.20   \n",
       "8-May-2019                  42805                      11.59             4.35   \n",
       "\n",
       "             Spread Close-Open  \n",
       "Date                            \n",
       "14-May-2019               2.00  \n",
       "13-May-2019              -0.55  \n",
       "10-May-2019              -3.15  \n",
       "9-May-2019               -0.10  \n",
       "8-May-2019               -0.70  "
      ]
     },
     "execution_count": 13,
     "metadata": {},
     "output_type": "execute_result"
    }
   ],
   "source": [
    "dlf_df.head()"
   ]
  },
  {
   "cell_type": "markdown",
   "metadata": {},
   "source": [
    "### 1. which stock has higher risk\n",
    "### 2. If invested 1 lakh, what is max loss?\n",
    "### 3. which stock has higher probability of making 3% or more loss\n",
    "### 4. which stock has higher probability of making 2% or more gain\n"
   ]
  },
  {
   "cell_type": "markdown",
   "metadata": {},
   "source": [
    "## calculating stock Daily gain\n"
   ]
  },
  {
   "cell_type": "code",
   "execution_count": 16,
   "metadata": {},
   "outputs": [
    {
     "name": "stdout",
     "output_type": "stream",
     "text": [
      "<class 'pandas.core.frame.DataFrame'>\n",
      "Index: 522 entries, 14-May-2019 to 3-April-2017\n",
      "Data columns (total 12 columns):\n",
      "Open Price                   522 non-null float64\n",
      "High Price                   522 non-null float64\n",
      "Low Price                    522 non-null float64\n",
      "Close Price                  522 non-null float64\n",
      "WAP                          522 non-null float64\n",
      "No.of Shares                 522 non-null int64\n",
      "No. of Trades                522 non-null int64\n",
      "Total Turnover (Rs.)         522 non-null float64\n",
      "Deliverable Quantity         521 non-null float64\n",
      "% Deli. Qty to Traded Qty    521 non-null float64\n",
      "Spread High-Low              522 non-null float64\n",
      "Spread Close-Open            522 non-null float64\n",
      "dtypes: float64(10), int64(2)\n",
      "memory usage: 53.0+ KB\n"
     ]
    }
   ],
   "source": [
    "tcs_df.info()"
   ]
  },
  {
   "cell_type": "code",
   "execution_count": 18,
   "metadata": {},
   "outputs": [
    {
     "name": "stdout",
     "output_type": "stream",
     "text": [
      "<class 'pandas.core.frame.DataFrame'>\n",
      "Index: 522 entries, 14-May-2019 to 3-April-2017\n",
      "Data columns (total 12 columns):\n",
      "Open Price                   522 non-null float64\n",
      "High Price                   522 non-null float64\n",
      "Low Price                    522 non-null float64\n",
      "Close Price                  522 non-null float64\n",
      "WAP                          522 non-null float64\n",
      "No.of Shares                 522 non-null int64\n",
      "No. of Trades                522 non-null int64\n",
      "Total Turnover (Rs.)         522 non-null float64\n",
      "Deliverable Quantity         522 non-null int64\n",
      "% Deli. Qty to Traded Qty    522 non-null float64\n",
      "Spread High-Low              522 non-null float64\n",
      "Spread Close-Open            522 non-null float64\n",
      "dtypes: float64(9), int64(3)\n",
      "memory usage: 53.0+ KB\n"
     ]
    }
   ],
   "source": [
    "dlf_df.info()"
   ]
  },
  {
   "cell_type": "code",
   "execution_count": 19,
   "metadata": {},
   "outputs": [],
   "source": [
    "tcs_df['gain'] = (tcs_df['Close Price'] - tcs_df['Open Price']) * 100 / tcs_df['Open Price']"
   ]
  },
  {
   "cell_type": "code",
   "execution_count": 20,
   "metadata": {},
   "outputs": [],
   "source": [
    "dlf_df['gain'] = (dlf_df['Close Price'] - dlf_df['Open Price']) * 100 / dlf_df['Open Price']"
   ]
  },
  {
   "cell_type": "code",
   "execution_count": 21,
   "metadata": {},
   "outputs": [],
   "source": [
    "import matplotlib.pyplot as plt\n",
    "import seaborn as sn"
   ]
  },
  {
   "cell_type": "code",
   "execution_count": 22,
   "metadata": {},
   "outputs": [
    {
     "data": {
      "text/plain": [
       "[<matplotlib.lines.Line2D at 0x18ac8128550>]"
      ]
     },
     "execution_count": 22,
     "metadata": {},
     "output_type": "execute_result"
    },
    {
     "data": {
      "image/png": "[encoded data removed]",
      "text/plain": [
       "<Figure size 432x288 with 1 Axes>"
      ]
     },
     "metadata": {
      "needs_background": "light"
     },
     "output_type": "display_data"
    }
   ],
   "source": [
    "plt.plot(tcs_df.gain)"
   ]
  },
  {
   "cell_type": "code",
   "execution_count": 23,
   "metadata": {},
   "outputs": [
    {
     "data": {
      "text/plain": [
       "[<matplotlib.lines.Line2D at 0x18ac81284a8>]"
      ]
     },
     "execution_count": 23,
     "metadata": {},
     "output_type": "execute_result"
    },
    {
     "data": {
      "image/png": "[encoded data removed]",
      "text/plain": [
       "<Figure size 432x288 with 1 Axes>"
      ]
     },
     "metadata": {
      "needs_background": "light"
     },
     "output_type": "display_data"
    }
   ],
   "source": [
    "plt.plot(dlf_df.gain)"
   ]
  },
  {
   "cell_type": "code",
   "execution_count": 28,
   "metadata": {},
   "outputs": [
    {
     "data": {
      "text/plain": [
       "<matplotlib.legend.Legend at 0x18aca8ea588>"
      ]
     },
     "execution_count": 28,
     "metadata": {},
     "output_type": "execute_result"
    },
    {
     "data": {
      "image/png": "[encoded data removed]",
      "text/plain": [
       "<Figure size 432x288 with 1 Axes>"
      ]
     },
     "metadata": {
      "needs_background": "light"
     },
     "output_type": "display_data"
    }
   ],
   "source": [
    "plt.plot(tcs_df.gain, label = 'TCS')\n",
    "plt.plot(dlf_df.gain, label = 'DLF')\n",
    "plt.legend()"
   ]
  },
  {
   "cell_type": "code",
   "execution_count": 27,
   "metadata": {},
   "outputs": [
    {
     "data": {
      "text/plain": [
       "<matplotlib.legend.Legend at 0x18ac92bdd30>"
      ]
     },
     "execution_count": 27,
     "metadata": {},
     "output_type": "execute_result"
    },
    {
     "data": {
      "image/png": "[encoded data removed]",
      "text/plain": [
       "<Figure size 432x288 with 1 Axes>"
      ]
     },
     "metadata": {
      "needs_background": "light"
     },
     "output_type": "display_data"
    }
   ],
   "source": [
    "sn.distplot(tcs_df.gain, label = 'TCS')\n",
    "sn.distplot(dlf_df.gain, label = 'DLF')\n",
    "plt.legend()"
   ]
  },
  {
   "cell_type": "code",
   "execution_count": 29,
   "metadata": {},
   "outputs": [
    {
     "data": {
      "text/plain": [
       "-0.0020057529759599305"
      ]
     },
     "execution_count": 29,
     "metadata": {},
     "output_type": "execute_result"
    }
   ],
   "source": [
    "tcs_df.gain.mean()"
   ]
  },
  {
   "cell_type": "code",
   "execution_count": 30,
   "metadata": {},
   "outputs": [
    {
     "data": {
      "text/plain": [
       "1.3586822205929139"
      ]
     },
     "execution_count": 30,
     "metadata": {},
     "output_type": "execute_result"
    }
   ],
   "source": [
    "tcs_df.gain.std()"
   ]
  },
  {
   "cell_type": "code",
   "execution_count": 40,
   "metadata": {},
   "outputs": [
    {
     "data": {
      "text/plain": [
       "-0.022901559826890742"
      ]
     },
     "execution_count": 40,
     "metadata": {},
     "output_type": "execute_result"
    }
   ],
   "source": [
    "dlf_df.gain.mean()"
   ]
  },
  {
   "cell_type": "code",
   "execution_count": 31,
   "metadata": {},
   "outputs": [
    {
     "data": {
      "text/plain": [
       "2.6087724445879696"
      ]
     },
     "execution_count": 31,
     "metadata": {},
     "output_type": "execute_result"
    }
   ],
   "source": [
    "dlf_df.gain.std()"
   ]
  },
  {
   "cell_type": "code",
   "execution_count": 34,
   "metadata": {},
   "outputs": [],
   "source": [
    "from scipy import stats"
   ]
  },
  {
   "cell_type": "code",
   "execution_count": 50,
   "metadata": {},
   "outputs": [
    {
     "data": {
      "text/plain": [
       "(-1.2718156063140331, 1.267804100362113)"
      ]
     },
     "execution_count": 50,
     "metadata": {},
     "output_type": "execute_result"
    }
   ],
   "source": [
    "stats.norm.interval(0.65, tcs_df.gain.mean(),tcs_df.gain.std())"
   ]
  },
  {
   "cell_type": "code",
   "execution_count": 54,
   "metadata": {},
   "outputs": [
    {
     "data": {
      "text/plain": [
       "0.013672911294158624"
      ]
     },
     "execution_count": 54,
     "metadata": {},
     "output_type": "execute_result"
    }
   ],
   "source": [
    "stats.norm.cdf(-3,tcs_df.gain.mean(),tcs_df.gain.std())"
   ]
  },
  {
   "cell_type": "code",
   "execution_count": 55,
   "metadata": {},
   "outputs": [
    {
     "data": {
      "text/plain": [
       "0.12689595757843297"
      ]
     },
     "execution_count": 55,
     "metadata": {},
     "output_type": "execute_result"
    }
   ],
   "source": [
    "stats.norm.cdf(-3,dlf_df.gain.mean(),dlf_df.gain.std())"
   ]
  },
  {
   "cell_type": "code",
   "execution_count": 59,
   "metadata": {},
   "outputs": [
    {
     "data": {
      "text/plain": [
       "0.07030937129549963"
      ]
     },
     "execution_count": 59,
     "metadata": {},
     "output_type": "execute_result"
    }
   ],
   "source": [
    "1- stats.norm.cdf(2,tcs_df.gain.mean(),tcs_df.gain.std())"
   ]
  },
  {
   "cell_type": "code",
   "execution_count": 60,
   "metadata": {},
   "outputs": [
    {
     "data": {
      "text/plain": [
       "0.21904494176859224"
      ]
     },
     "execution_count": 60,
     "metadata": {},
     "output_type": "execute_result"
    }
   ],
   "source": [
    "1- stats.norm.cdf(2,dlf_df.gain.mean(),dlf_df.gain.std())"
   ]
  },
  {
   "cell_type": "code",
   "execution_count": null,
   "metadata": {},
   "outputs": [],
   "source": []
  }
 ],
 "metadata": {
  "kernelspec": {
   "display_name": "Python 3",
   "language": "python",
   "name": "python3"
  },
  "language_info": {
   "codemirror_mode": {
    "name": "ipython",
    "version": 3
   },
   "file_extension": ".py",
   "mimetype": "text/x-python",
   "name": "python",
   "nbconvert_exporter": "python",
   "pygments_lexer": "ipython3",
   "version": "3.7.1"
  }
 },
 "nbformat": 4,
 "nbformat_minor": 2
}
